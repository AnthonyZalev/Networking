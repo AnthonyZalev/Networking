{
 "cells": [
  {
   "cell_type": "markdown",
   "metadata": {
    "collapsed": true,
    "pycharm": {
     "name": "#%% md\n"
    }
   },
   "source": [
    "## 1a\n",
    "\n",
    "What kind of algorithm? Recursion\n",
    "\n",
    "\n",
    "![Tree Diagram](535Tree.png)\n",
    "\n",
    "## 1b\n",
    "\n",
    "Base Case:\n",
    "\n",
    "If y == 1 return x\n",
    "else if y == 0 return 1"
   ]
  },
  {
   "cell_type": "markdown",
   "source": [
    "## 1c)\n",
    "Simple Recursive Formulation"
   ],
   "metadata": {
    "collapsed": false
   }
  },
  {
   "cell_type": "code",
   "execution_count": 1,
   "outputs": [],
   "source": [
    "from math import ceil, floor"
   ],
   "metadata": {
    "collapsed": false,
    "pycharm": {
     "name": "#%%\n"
    }
   }
  },
  {
   "cell_type": "code",
   "execution_count": 4,
   "outputs": [],
   "source": [
    "def recursive_power(x,y):\n",
    "    if y == 1:\n",
    "        return x\n",
    "    elif y == 0:\n",
    "        return 1\n",
    "    else:\n",
    "        y_low = int(floor(y/2))\n",
    "        y_high = int(ceil(y/2))\n",
    "\n",
    "        return recursive_power(x,y_low) * recursive_power(x, y_high)"
   ],
   "metadata": {
    "collapsed": false,
    "pycharm": {
     "name": "#%%\n"
    }
   }
  },
  {
   "cell_type": "code",
   "execution_count": 5,
   "outputs": [
    {
     "name": "stdout",
     "output_type": "stream",
     "text": [
      "16\n",
      "32\n",
      "64\n",
      "128\n",
      "256\n"
     ]
    }
   ],
   "source": [
    "print(recursive_power(2,4))\n",
    "print(recursive_power(2,5))\n",
    "print(recursive_power(2,6))\n",
    "print(recursive_power(2,7))\n",
    "print(recursive_power(2,8))"
   ],
   "metadata": {
    "collapsed": false,
    "pycharm": {
     "name": "#%%\n"
    }
   }
  },
  {
   "cell_type": "markdown",
   "source": [
    "## 1d)\n",
    "Memoized Dynamic Programming Formulation"
   ],
   "metadata": {
    "collapsed": false
   }
  },
  {
   "cell_type": "code",
   "execution_count": 6,
   "outputs": [],
   "source": [
    "memo = {}\n",
    "def memoized_power(x,y):\n",
    "    if y in memo:\n",
    "        return memo[y]\n",
    "    elif y == 0:\n",
    "        return 1\n",
    "    elif y == 1:\n",
    "        return x\n",
    "    else:\n",
    "        y_low = int(floor(y/2))\n",
    "        y_high = int(ceil(y/2))\n",
    "        y = recursive_power(x,y_low) * recursive_power(x, y_high)\n",
    "        memo[y] = y\n",
    "        return y"
   ],
   "metadata": {
    "collapsed": false,
    "pycharm": {
     "name": "#%%\n"
    }
   }
  },
  {
   "cell_type": "code",
   "execution_count": 7,
   "outputs": [
    {
     "name": "stdout",
     "output_type": "stream",
     "text": [
      "16\n",
      "32\n",
      "64\n",
      "128\n",
      "256\n"
     ]
    }
   ],
   "source": [
    "print(memoized_power(2,4))\n",
    "print(memoized_power(2,5))\n",
    "print(memoized_power(2,6))\n",
    "print(memoized_power(2,7))\n",
    "print(memoized_power(2,8))"
   ],
   "metadata": {
    "collapsed": false,
    "pycharm": {
     "name": "#%%\n"
    }
   }
  },
  {
   "cell_type": "markdown",
   "source": [
    "## 1e\n",
    "Make it bottom up dynamic programming."
   ],
   "metadata": {
    "collapsed": false
   }
  },
  {
   "cell_type": "code",
   "execution_count": 37,
   "outputs": [],
   "source": [
    "def dynamic_power(x,y):\n",
    "    power = {1 : x, 0 : 1}\n",
    "    for i in range(2, y+1):\n",
    "        i_low = int(floor(i/2))\n",
    "        i_high = int(ceil(i/2))\n",
    "        step = power[i_low] * power[i_high]\n",
    "        power[i] = step\n",
    "    return power[y]"
   ],
   "metadata": {
    "collapsed": false,
    "pycharm": {
     "name": "#%%\n"
    }
   }
  },
  {
   "cell_type": "code",
   "execution_count": 38,
   "outputs": [
    {
     "name": "stdout",
     "output_type": "stream",
     "text": [
      "16\n",
      "32\n",
      "64\n",
      "128\n",
      "256\n"
     ]
    }
   ],
   "source": [
    "print(dynamic_power(2,4))\n",
    "print(dynamic_power(2,5))\n",
    "print(dynamic_power(2,6))\n",
    "print(dynamic_power(2,7))\n",
    "print(dynamic_power(2,8))"
   ],
   "metadata": {
    "collapsed": false,
    "pycharm": {
     "name": "#%%\n"
    }
   }
  }
 ],
 "metadata": {
  "kernelspec": {
   "display_name": "Python 3",
   "language": "python",
   "name": "python3"
  },
  "language_info": {
   "codemirror_mode": {
    "name": "ipython",
    "version": 2
   },
   "file_extension": ".py",
   "mimetype": "text/x-python",
   "name": "python",
   "nbconvert_exporter": "python",
   "pygments_lexer": "ipython2",
   "version": "2.7.6"
  }
 },
 "nbformat": 4,
 "nbformat_minor": 0
}